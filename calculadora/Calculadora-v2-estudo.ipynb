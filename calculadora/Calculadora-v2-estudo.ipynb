{
 "cells": [
  {
   "cell_type": "code",
   "execution_count": 1,
   "id": "89ff6de7-fabe-40b6-b6ef-4d1f4398eb1e",
   "metadata": {},
   "outputs": [
    {
     "name": "stdout",
     "output_type": "stream",
     "text": [
      "Versão do Python usada neste Jupyter notebook:  3.11.7\n"
     ]
    }
   ],
   "source": [
    "# Versão do Python neste projeto\n",
    "from platform import python_version as pv\n",
    "print(\"Versão do Python usada neste Jupyter notebook: \", pv())"
   ]
  },
  {
   "cell_type": "markdown",
   "id": "24c10bb2-e6b9-4ea2-a52f-efa64a6b29d0",
   "metadata": {},
   "source": [
    "> **Cauculadora Simples - Versão 2.0**"
   ]
  },
  {
   "cell_type": "code",
   "execution_count": 17,
   "id": "a9918a02-8bb2-48d0-8624-9b85fdd08451",
   "metadata": {},
   "outputs": [
    {
     "name": "stdout",
     "output_type": "stream",
     "text": [
      "\n",
      "----------CALCULADORA PYTHON 2.0----------\n",
      "\n",
      "\n",
      " Selecione o número da operação desejada: \n",
      "\n",
      "1 - Soma (+) \n",
      "2 - Subtração (-) \n",
      "3 - Multiplicação (*) \n",
      "4 - Divisão (/) \n"
     ]
    },
    {
     "name": "stdin",
     "output_type": "stream",
     "text": [
      "\n",
      "Digite sua opção (1/2/3/4):  3\n",
      "\n",
      "Digite o primeiro número:  5\n",
      "Digite o segundo número:  5\n"
     ]
    },
    {
     "name": "stdout",
     "output_type": "stream",
     "text": [
      "\n",
      "\n",
      "5 * 5 = 25\n",
      "\n",
      "\n"
     ]
    }
   ],
   "source": [
    "print(\"\\n----------CALCULADORA PYTHON 2.0----------\\n\")\n",
    "\n",
    "# Criando funções para as operações\n",
    "def add(x, y):\n",
    "    return x + y\n",
    "\n",
    "def subtract(x, y):\n",
    "    return x - y\n",
    "\n",
    "def mutiply(x, y):\n",
    "    return x * y\n",
    "\n",
    "def divide(x, y):\n",
    "    return x / y\n",
    "\n",
    "# Imprimindo menu para usuário escolher a operação\n",
    "\n",
    "print(\"\\n Selecione o número da operação desejada: \\n\")\n",
    "print(\"1 - Soma (+) \")\n",
    "print(\"2 - Subtração (-) \")\n",
    "print(\"3 - Multiplicação (*) \")\n",
    "print(\"4 - Divisão (/) \")\n",
    "\n",
    "choice = input(\"\\nDigite sua opção (1/2/3/4): \")\n",
    "\n",
    "num1 = int(input(\"\\nDigite o primeiro número: \"))\n",
    "num2 = int(input(\"Digite o segundo número: \"))\n",
    "\n",
    "    \n",
    "if choice == \"1\":\n",
    "    print(\"\\n\")\n",
    "    print(num1, \"+\", num2, \"=\", add(num1, num2))\n",
    "    print(\"\\n\")\n",
    "\n",
    "elif choice == \"2\":\n",
    "    print(\"\\n\")\n",
    "    print(num1, \"-\", num2, \"=\", subtract(num1, num2))\n",
    "    print(\"\\n\")\n",
    "\n",
    "elif choice == \"3\":\n",
    "    print(\"\\n\")\n",
    "    print(num1, \"*\", num2, \"=\", mutiply(num1, num2))\n",
    "    print(\"\\n\")\n",
    "\n",
    "elif choice == \"4\":\n",
    "    print(\"\\n\")\n",
    "    print(num1, \"/\", num2, \"=\", divide(num1, num2))\n",
    "    print(\"\n\")\n",
    "    \n",
    "else:\n",
    "    print(\"\\nOpção Inválida! \")\n"
   ]
  },
  {
   "cell_type": "code",
   "execution_count": null,
   "id": "888c113c-31bf-4dad-9c0b-3ed8a5ceed4c",
   "metadata": {},
   "outputs": [],
   "source": []
  },
  {
   "cell_type": "code",
   "execution_count": null,
   "id": "dccc90d6-2b09-4550-998d-13b76c3d97bd",
   "metadata": {},
   "outputs": [],
   "source": []
  }
 ],
 "metadata": {
  "kernelspec": {
   "display_name": "Python 3 (ipykernel)",
   "language": "python",
   "name": "python3"
  },
  "language_info": {
   "codemirror_mode": {
    "name": "ipython",
    "version": 3
   },
   "file_extension": ".py",
   "mimetype": "text/x-python",
   "name": "python",
   "nbconvert_exporter": "python",
   "pygments_lexer": "ipython3",
   "version": "3.11.7"
  }
 },
 "nbformat": 4,
 "nbformat_minor": 5
}
